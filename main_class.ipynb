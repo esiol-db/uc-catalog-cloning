{
 "cells": [
  {
   "cell_type": "code",
   "execution_count": 1,
   "metadata": {},
   "outputs": [],
   "source": [
    "from databricks.sdk.core import DatabricksError\n",
    "from databricks.sdk import WorkspaceClient\n",
    "from databricks.sdk.service import catalog\n",
    "w = WorkspaceClient()   "
   ]
  },
  {
   "cell_type": "code",
   "execution_count": 2,
   "metadata": {},
   "outputs": [],
   "source": [
    "old_external_location_name = 'eo000_ext_loc_ctg2'\n",
    "old_catalog_name = 'eo000_ctg_ext_loc2'\n",
    "\n",
    "new_storage_credential_name = 'field_demos_credential'\n",
    "new_external_location_name = 'eo000_ext_loc_ctg5'\n",
    "new_external_location_url = 'abfss://eo000ext5@oneenvadls.dfs.core.windows.net/'\n",
    "\n",
    "new_catalog_name = 'eo000_ctg_ext_loc5'"
   ]
  },
  {
   "cell_type": "code",
   "execution_count": 6,
   "metadata": {},
   "outputs": [
    {
     "ename": "NameError",
     "evalue": "name 'spark' is not defined",
     "output_type": "error",
     "traceback": [
      "\u001b[0;31m---------------------------------------------------------------------------\u001b[0m",
      "\u001b[0;31mNameError\u001b[0m                                 Traceback (most recent call last)",
      "\u001b[1;32m/Users/ehsan.olfat/Documents/Projects/uc-migration/main.ipynb Cell 3\u001b[0m line \u001b[0;36m1\n\u001b[0;32m----> <a href='vscode-notebook-cell:/Users/ehsan.olfat/Documents/Projects/uc-migration/main.ipynb#W2sZmlsZQ%3D%3D?line=0'>1</a>\u001b[0m catalog_tag_list \u001b[39m=\u001b[39m spark\u001b[39m.\u001b[39msql(\u001b[39mf\u001b[39m\u001b[39m\"\"\"\u001b[39m\n\u001b[1;32m      <a href='vscode-notebook-cell:/Users/ehsan.olfat/Documents/Projects/uc-migration/main.ipynb#W2sZmlsZQ%3D%3D?line=1'>2</a>\u001b[0m \u001b[39mSELECT \u001b[39m\n\u001b[1;32m      <a href='vscode-notebook-cell:/Users/ehsan.olfat/Documents/Projects/uc-migration/main.ipynb#W2sZmlsZQ%3D%3D?line=2'>3</a>\u001b[0m \u001b[39m  * \u001b[39m\n\u001b[1;32m      <a href='vscode-notebook-cell:/Users/ehsan.olfat/Documents/Projects/uc-migration/main.ipynb#W2sZmlsZQ%3D%3D?line=3'>4</a>\u001b[0m \u001b[39mFROM \u001b[39m\n\u001b[1;32m      <a href='vscode-notebook-cell:/Users/ehsan.olfat/Documents/Projects/uc-migration/main.ipynb#W2sZmlsZQ%3D%3D?line=4'>5</a>\u001b[0m \u001b[39m  system.information_schema.catalog_tags \u001b[39m\n\u001b[1;32m      <a href='vscode-notebook-cell:/Users/ehsan.olfat/Documents/Projects/uc-migration/main.ipynb#W2sZmlsZQ%3D%3D?line=5'>6</a>\u001b[0m \u001b[39mWHERE \u001b[39m\n\u001b[1;32m      <a href='vscode-notebook-cell:/Users/ehsan.olfat/Documents/Projects/uc-migration/main.ipynb#W2sZmlsZQ%3D%3D?line=6'>7</a>\u001b[0m \u001b[39m  catalog_name = \u001b[39m\u001b[39m'\u001b[39m\u001b[39m{\u001b[39;00mold_catalog_name\u001b[39m}\u001b[39;00m\u001b[39m'\u001b[39m\n\u001b[1;32m      <a href='vscode-notebook-cell:/Users/ehsan.olfat/Documents/Projects/uc-migration/main.ipynb#W2sZmlsZQ%3D%3D?line=7'>8</a>\u001b[0m \u001b[39m          \u001b[39m\u001b[39m\"\"\"\u001b[39m)\u001b[39m.\u001b[39mcollect()\n\u001b[1;32m      <a href='vscode-notebook-cell:/Users/ehsan.olfat/Documents/Projects/uc-migration/main.ipynb#W2sZmlsZQ%3D%3D?line=8'>9</a>\u001b[0m \u001b[39mfor\u001b[39;00m row \u001b[39min\u001b[39;00m catalog_tag_list:\n\u001b[1;32m     <a href='vscode-notebook-cell:/Users/ehsan.olfat/Documents/Projects/uc-migration/main.ipynb#W2sZmlsZQ%3D%3D?line=9'>10</a>\u001b[0m   spark\u001b[39m.\u001b[39msql(\u001b[39mf\u001b[39m\u001b[39m\"\"\"\u001b[39m\n\u001b[1;32m     <a href='vscode-notebook-cell:/Users/ehsan.olfat/Documents/Projects/uc-migration/main.ipynb#W2sZmlsZQ%3D%3D?line=10'>11</a>\u001b[0m \u001b[39m            ALTER CATALOG \u001b[39m\u001b[39m{\u001b[39;00mcatalog_created\u001b[39m.\u001b[39mfull_name\u001b[39m}\u001b[39;00m\n\u001b[1;32m     <a href='vscode-notebook-cell:/Users/ehsan.olfat/Documents/Projects/uc-migration/main.ipynb#W2sZmlsZQ%3D%3D?line=11'>12</a>\u001b[0m \u001b[39m            SET TAGS (\u001b[39m\u001b[39m'\u001b[39m\u001b[39m{\u001b[39;00mrow\u001b[39m.\u001b[39mtag_name\u001b[39m}\u001b[39;00m\u001b[39m'\u001b[39m\u001b[39m = \u001b[39m\u001b[39m'\u001b[39m\u001b[39m{\u001b[39;00mrow\u001b[39m.\u001b[39mtag_value\u001b[39m}\u001b[39;00m\u001b[39m'\u001b[39m\u001b[39m)\u001b[39m\n\u001b[1;32m     <a href='vscode-notebook-cell:/Users/ehsan.olfat/Documents/Projects/uc-migration/main.ipynb#W2sZmlsZQ%3D%3D?line=12'>13</a>\u001b[0m \u001b[39m            \u001b[39m\u001b[39m\"\"\"\u001b[39m)\n",
      "\u001b[0;31mNameError\u001b[0m: name 'spark' is not defined"
     ]
    }
   ],
   "source": [
    "catalog_tag_list = spark.sql(f\"\"\"\n",
    "SELECT \n",
    "  * \n",
    "FROM \n",
    "  system.information_schema.catalog_tags \n",
    "WHERE \n",
    "  catalog_name = '{old_catalog_name}'\n",
    "          \"\"\").collect()\n",
    "for row in catalog_tag_list:\n",
    "  spark.sql(f\"\"\"\n",
    "            ALTER CATALOG {catalog_created.full_name}\n",
    "            SET TAGS ('{row.tag_name}' = '{row.tag_value}')\n",
    "            \"\"\")"
   ]
  },
  {
   "cell_type": "code",
   "execution_count": null,
   "metadata": {},
   "outputs": [],
   "source": []
  }
 ],
 "metadata": {
  "kernelspec": {
   "display_name": "databricks-sdk",
   "language": "python",
   "name": "python3"
  },
  "language_info": {
   "codemirror_mode": {
    "name": "ipython",
    "version": 3
   },
   "file_extension": ".py",
   "mimetype": "text/x-python",
   "name": "python",
   "nbconvert_exporter": "python",
   "pygments_lexer": "ipython3",
   "version": "3.10.12"
  }
 },
 "nbformat": 4,
 "nbformat_minor": 2
}
