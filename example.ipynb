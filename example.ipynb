{
 "cells": [
  {
   "cell_type": "code",
   "execution_count": 1,
   "metadata": {},
   "outputs": [],
   "source": [
    "from migratecatalog import MigrateCatalog"
   ]
  },
  {
   "cell_type": "code",
   "execution_count": 2,
   "metadata": {},
   "outputs": [
    {
     "name": "stdout",
     "output_type": "stream",
     "text": [
      "\u001b[36mCreating external locations if they do not exist for the schemas based on the input dictionary.\u001b[0m\n",
      "   External location eo000_ext_db_loc01 already exists and will be used for db1.\u001b[0m\n",
      "   External location eo000_ext_db_loc01 already exists and will be used for db2.\u001b[0m\n",
      "   External location eo000_ext_db_loc02 already exists and will be used for db_empty.\u001b[0m\n",
      "\u001b[36mCreating data assets if they do not exist and migrate permissions, comments and tags.\u001b[0m\n",
      "   External location eo000_ext_loc_ctg5 already exists. Only transferring permissions, comments and tags ...\u001b[0m \u001b[32mDONE!\u001b[0m\n",
      "      Catalog eo000_ctg_ext_loc5 already exists. Only transferring permissions, comments and tags ...\u001b[0m \u001b[32mDONE!\u001b[0m\n",
      "         Schema db1 already exists. Only transferring permissions, comments and tags ...\u001b[0m \u001b[32mDONE!\u001b[0m\n",
      "            Table tbl1 already exists. Only transferring permissions, comments and tags ...\u001b[0m \u001b[32mDONE!\u001b[0m\n",
      "            Table tbl1_new already exists. Only transferring permissions, comments and tags ...\u001b[0m \u001b[32mDONE!\u001b[0m\n",
      "         Schema db2 already exists. Only transferring permissions, comments and tags ...\u001b[0m \u001b[32mDONE!\u001b[0m\n",
      "         Schema db_empty already exists. Only transferring permissions, comments and tags ...\u001b[0m \u001b[32mDONE!\u001b[0m\n",
      "         Schema db_ext already exists. Only transferring permissions, comments and tags ...\u001b[0m \u001b[32mDONE!\u001b[0m\n",
      "            Table tblx already exists. Only transferring permissions, comments and tags ...\u001b[0m \u001b[32mDONE!\u001b[0m\n",
      "         Schema db_other_assets already exists. Only transferring permissions, comments and tags ...\u001b[0m \u001b[32mDONE!\u001b[0m\n",
      "            Creating Table tbl1 and transferring permissions, comments and tags ...\u001b[0m User does not have USE SCHEMA on Schema 'eo000_ctg_ext_loc2.db_other_assets'.\n",
      "            Creating Table tbl2 and transferring permissions, comments and tags ...\u001b[0m User does not have USE SCHEMA on Schema 'eo000_ctg_ext_loc2.db_other_assets'.\n",
      "            Creating Table valid_groups and transferring permissions, comments and tags ...\u001b[0m User does not have USE SCHEMA on Schema 'eo000_ctg_ext_loc2.db_other_assets'.\n",
      "         Schema default already exists. Only transferring permissions, comments and tags ...\u001b[0m \u001b[32mDONE!\u001b[0m\n",
      "         Schema information_schema already exists. Only transferring permissions, comments and tags ...\u001b[0m \u001b[32mDONE!\u001b[0m\n"
     ]
    }
   ],
   "source": [
    "inputs = dict(\n",
    "    old_external_location_name = 'eo000_ext_loc_ctg2',\n",
    "    old_catalog_name = 'eo000_ctg_ext_loc2',\n",
    "    new_external_location_pre_req = ['eo000_ext_loc_ctg5', 'field_demos_credential', 'abfss://eo000ext5@oneenvadls.dfs.core.windows.net/'],\n",
    "    new_catalog_name = 'eo000_ctg_ext_loc5')\n",
    "\n",
    "db_dict = {\n",
    "    'db1': ['eo000_ext_db_loc01', 'field_demos_credential', 'abfss://eo000extdb0@oneenvadls.dfs.core.windows.net/'],\n",
    "    'db2': ['eo000_ext_db_loc01', 'field_demos_credential', 'abfss://eo000extdb0@oneenvadls.dfs.core.windows.net/'],\n",
    "    'db_empty': ['eo000_ext_db_loc02', 'field_demos_credential', 'abfss://eo000extdb1@oneenvadls.dfs.core.windows.net/']\n",
    "}\n",
    "\n",
    "\n",
    "migrate = MigrateCatalog(**inputs, db_dict=db_dict)\n",
    "migrate()"
   ]
  },
  {
   "cell_type": "code",
   "execution_count": null,
   "metadata": {},
   "outputs": [],
   "source": []
  }
 ],
 "metadata": {
  "kernelspec": {
   "display_name": "databricks-sdk",
   "language": "python",
   "name": "python3"
  },
  "language_info": {
   "codemirror_mode": {
    "name": "ipython",
    "version": 3
   },
   "file_extension": ".py",
   "mimetype": "text/x-python",
   "name": "python",
   "nbconvert_exporter": "python",
   "pygments_lexer": "ipython3",
   "version": "3.10.12"
  }
 },
 "nbformat": 4,
 "nbformat_minor": 2
}
